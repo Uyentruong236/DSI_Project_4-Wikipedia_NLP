{
 "cells": [
  {
   "cell_type": "code",
   "execution_count": 2,
   "metadata": {},
   "outputs": [],
   "source": [
    "import re\n",
    "import requests\n",
    "import pandas as pd\n",
    "import numpy as np\n",
    "import pymongo\n",
    "import json\n",
    "from nltk.corpus import stopwords\n",
    "from spacy.en import English\n",
    "from nltk.stem.porter import PorterStemmer\n",
    "import nltk\n",
    "from nltk.corpus import stopwords\n",
    "from spacy.en import STOP_WORDS\n",
    "from bs4 import BeautifulSoup\n",
    "nlp = English()\n",
    "from sklearn.feature_extraction.text import CountVectorizer, TfidfVectorizer, HashingVectorizer"
   ]
  },
  {
   "cell_type": "code",
   "execution_count": 3,
   "metadata": {},
   "outputs": [
    {
     "data": {
      "text/plain": [
       "1636"
      ]
     },
     "execution_count": 3,
     "metadata": {},
     "output_type": "execute_result"
    }
   ],
   "source": [
    "client = pymongo.MongoClient('54.201.199.246', 27016)\n",
    "\n",
    "wiki_db = client.wikipedia\n",
    "\n",
    "wiki_col = wiki_db.my_collection\n",
    "\n",
    "wiki_col.count()"
   ]
  },
  {
   "cell_type": "code",
   "execution_count": 4,
   "metadata": {},
   "outputs": [],
   "source": [
    "cursor = wiki_col.find()"
   ]
  },
  {
   "cell_type": "code",
   "execution_count": 5,
   "metadata": {
    "scrolled": true
   },
   "outputs": [],
   "source": [
    "# next(cursor)['content']"
   ]
  },
  {
   "cell_type": "code",
   "execution_count": 6,
   "metadata": {},
   "outputs": [],
   "source": [
    "machine_df = pd.DataFrame(list(cursor))"
   ]
  },
  {
   "cell_type": "code",
   "execution_count": 7,
   "metadata": {},
   "outputs": [],
   "source": [
    "stop = set(stopwords.words('english'))"
   ]
  },
  {
   "cell_type": "code",
   "execution_count": 10,
   "metadata": {},
   "outputs": [],
   "source": [
    "def cleaner(text):\n",
    "    text = text.lower()\n",
    "    text = re.sub('<.{0,3}>',' ',text)\n",
    "    text = re.sub('{.*\\.*}',' ',text)\n",
    "    text = re.sub('{.*\\+.*}',' ',text)\n",
    "    text = re.sub('[^a-z]',' ',text)\n",
    "    text = ' '.join( [w for w in text.split() if len(w)>1] )\n",
    "    text = re.sub('aa','a',text)\n",
    "    text = re.sub('[0-9]','',text)\n",
    "    text = re.sub('\\s+',' ',text)\n",
    "    text = ' '.join([i.lemma_ for i in nlp(text) \n",
    "                     if i.orth_ not in STOP_WORDS])\n",
    "    return text"
   ]
  },
  {
   "cell_type": "code",
   "execution_count": 8,
   "metadata": {},
   "outputs": [
    {
     "data": {
      "text/plain": [
       "'{{Multiple issues|{{refimprove|date=July 2017}}{{more footnotes|date=July 2017}}}}\\n\\n\\'\\'\\'Data exploration\\'\\'\\' is an approach similar to initial data analysis, whereby a data analyst uses visual exploration to understand what is in a dataset and the characteristics of the data, rather than through traditional data management systems<ref name=\"Foster\">[https://www.fosteropenscience.eu/sites/default/files/pdf/2933.pdf FOSTER Open Science], Overview of Data Exploration Techniques: Stratos Idreos, Olga Papaemmonouil, Surajit Chaudhuri.</ref>. These characteristics can include size or amount of data, completeness of the data, correctness of the data, possible relationships amongst data elements or files/tables in the data.\\n\\nData exploration is typically conducted using a combination of automated and manual activities.<ref name=\"Foster\" /><ref name=\"Stanford2011\">[http://vis.stanford.edu/files/2011-Wrangler-CHI.pdf Stanford.edu], 2011 Wrangler: Interactive Visual Specification of Data Transformation Scripts, Kandel, Paepcke, Hellerstein Heer.</ref> Automated activities can include data profiling or data visualization or tabular reports to give the analyst an initial view into the data and an understanding of key characteristics.\\n\\nThis is often followed by manual drill-down or filtering of the data to identify anomalies or patterns identified through the automated actions.  Data exploration can also require manual scripting and queries into the data (e.g. using languages such as SQL or R) or using Excel or similar tools to view the raw data.<ref name=\"Stanford2012\">[http://vis.stanford.edu/files/2012-EnterpriseAnalysisInterviews-VAST.pdf Stanford.edu], IEEE Visual Analytics Science & Technology (VAST), Oct 2012 Enterprise Data Analysis and Visualization: An Interview Study., Sean Kandel, Andreas Paepcke, Joseph Hellerstein, Jeffrey Heer Proc.</ref>\\n\\nAll of these activities are aimed at creating a clear mental model and understanding of the data in the mind of the analyst, and defining basic metadata (statistics, structure, relationships) for the data set that can be used in further analysis.\\n\\nOnce this initial understanding of the data is had, the data can be pruned or refined by removing unusable parts of the data, correcting poorly formatted elements and defining relevant relationships across datasets<ref name=\"Stanford2011\" />. This process is also known as determining [[data quality]]<ref name=\"Stanford2012\" />.\\n\\nAt this stage, the data can be considered ready for deeper analysis or be handed off to other analysts or users who have specific needs for the data.\\n\\nData exploration can also refer to the adhoc querying and visualization of data to identify potential relationships or insights that may be hidden in the data<ref name=\"Foster\" />.  In this scenario, hypotheses may be created and then the data is explored to identify whether those hypotheses are correct. \\n\\nTraditionally, this had been a key area of focus for statisticians, with [[John Tukey]] being a key evangelist in the field. Today, data exploration is more widespread and is the focus of data analysts and [[data scientists]]; the latter being a relatively new role within enterprises and larger organizations.\\n\\n== Interactive Data Exploration ==\\nThis area of data exploration has become an area of interest in the field of machine learning. This is a relatively new field and is still evolving.<ref name=\"Stanford2012\" />  As it’s most basic level, a machine-learning algorithm can be fed a data set and can be used to identify whether a hypothesis is true based on the dataset. Common machine learning algorithms can focus on identifying specific patterns in the data.<ref name=\"Stanford2011\" /> Common patterns include regression, classification or clustering, but there are many possible patterns and algorithms that can be applied to data via machine learning.\\n\\nBy employing machine learning, it is possible to find patterns or relationships in the data that would be difficult or impossible to find via manual inspection, trial and error or traditional exploration techniques.\\n\\n==Software==\\n* [[Trifacta]] – a data preparation and analysis platform\\n* [[Paxata]] – self-service data preparation software\\n* [[Alteryx]] – data blending and advanced data analytics software\\n* IBM Infosphere Analyzer – a data profiling tool\\n* Microsoft [[Power BI]] -  interactive visualization and data analysis tool\\n* [[OpenRefine]] -  a standalone open source desktop application for data clean-up and data transformation \\n* [[Tableau software]] – interactive data visualization software\\n\\n==See also==\\n{{Portal|Information technology}}\\n* [[Exploratory Data Analysis]]\\n* [[Machine Learning]]\\n* [[Data profiling]]\\n* [[Data Visualization]]\\n{{-}}\\n\\n== References ==\\n{{reflist}}\\n\\n[[Category:Machine learning| ]]\\n[[Category:Data analysis]]\\n[[Category:Data management]]\\n[[Category:Data quality]]'"
      ]
     },
     "execution_count": 8,
     "metadata": {},
     "output_type": "execute_result"
    }
   ],
   "source": [
    "machine_df['content'][0]['*']"
   ]
  },
  {
   "cell_type": "code",
   "execution_count": 11,
   "metadata": {
    "scrolled": false
   },
   "outputs": [
    {
     "data": {
      "text/plain": [
       "'data exploration approach similar initial datum analysis datum analyst use visual exploration understand dataset characteristic data traditional data management system ref foster https www fosteropenscience eu site default file pdf pdf foster open science overview data exploration technique strato idreos olga papaemmonouil surajit chaudhuri ref characteristic include size datum completeness datum correctness datum possible relationship data element file table datum datum exploration typically conduct combination automate manual activity ref foster ref stanford http vis stanford edu file wrangl chi pdf stanford edu wrangler interactive visual specification data transformation script kandel paepcke hellerstein heer ref automate activity include datum profile datum visualization tabular report analyst initial view datum understanding key characteristic follow manual drill filtering datum identify anomaly pattern identify automated action datum exploration require manual scripting query datum language sql excel similar tool view raw data ref stanford http vis stanford edu file enterpriseanalysisinterviews vast pdf stanford edu ieee visual analytic science technology vast oct enterprise datum analysis visualization interview study sean kandel andreas paepcke joseph hellerstein jeffrey heer proc ref activity aim create clear mental model understanding datum mind analyst define basic metadata statistic structure relationship datum set analysis initial understanding data datum prune refine remove unusable part datum correct poorly format element define relevant relationship dataset ref stanford process know determine datum quality ref stanford stage datum consider ready deep analysis hand analyst user specific need datum datum exploration refer adhoc query visualization datum identify potential relationship insight hide datum ref foster scenario hypothesis create data explore identify hypothesis correct traditionally key area focus statistician john tukey key evangelist field today datum exploration widespread focus datum analyst datum scientist relatively new role enterprise large organization interactive data exploration area data exploration area interest field machine learn relatively new field evolve ref stanford basic level machine learn algorithm feed data set identify hypothesis true base dataset common machine learn algorithm focus identify specific pattern datum ref stanford common pattern include regression classification clustering possible pattern algorithm apply datum machine learning employ machine learn possible find pattern relationship datum difficult impossible find manual inspection trial error traditional exploration technique software trifacta datum preparation analysis platform paxata self service datum preparation software alteryx datum blending advanced datum analytic software ibm infosphere analyzer datum profile tool microsoft power bi interactive visualization data analysis tool openrefine standalone open source desktop application datum clean datum transformation tableau software interactive datum visualization software exploratory datum analysis machine learn datum profile datum visualization reference category machine learn category datum analysis category datum management category datum quality'"
      ]
     },
     "execution_count": 11,
     "metadata": {},
     "output_type": "execute_result"
    }
   ],
   "source": [
    "cleaner(machine_df['content'][0]['*'])"
   ]
  },
  {
   "cell_type": "code",
   "execution_count": 24,
   "metadata": {},
   "outputs": [],
   "source": [
    "fixed_content = []\n",
    "for i, item in enumerate(machine_df['content']):\n",
    "    content = machine_df['content'][i]['*']\n",
    "    fixed_content.append(content)"
   ]
  },
  {
   "cell_type": "code",
   "execution_count": 25,
   "metadata": {},
   "outputs": [],
   "source": [
    "machine_df['content'] = fixed_content"
   ]
  },
  {
   "cell_type": "code",
   "execution_count": 26,
   "metadata": {},
   "outputs": [
    {
     "data": {
      "text/html": [
       "<div>\n",
       "<table border=\"1\" class=\"dataframe\">\n",
       "  <thead>\n",
       "    <tr style=\"text-align: right;\">\n",
       "      <th></th>\n",
       "      <th>_id</th>\n",
       "      <th>article</th>\n",
       "      <th>category</th>\n",
       "      <th>content</th>\n",
       "      <th>page_id</th>\n",
       "    </tr>\n",
       "  </thead>\n",
       "  <tbody>\n",
       "    <tr>\n",
       "      <th>0</th>\n",
       "      <td>5a11baefc7782d026b5037f7</td>\n",
       "      <td>List of datasets for machine learning research</td>\n",
       "      <td>Machine learning</td>\n",
       "      <td>{{Use dmy dates|date=September 2017}}\\n{{machi...</td>\n",
       "      <td>49082762</td>\n",
       "    </tr>\n",
       "    <tr>\n",
       "      <th>1</th>\n",
       "      <td>5a11baefc7782d026b5037f8</td>\n",
       "      <td>Machine learning</td>\n",
       "      <td>Machine learning</td>\n",
       "      <td>{{for|the journal|Machine Learning (journal)}}...</td>\n",
       "      <td>233488</td>\n",
       "    </tr>\n",
       "    <tr>\n",
       "      <th>2</th>\n",
       "      <td>5a11baf0c7782d026b5037f9</td>\n",
       "      <td>Outline of machine learning</td>\n",
       "      <td>Machine learning</td>\n",
       "      <td>&lt;!--... Attention:  THIS IS AN OUTLINE\\n\\n    ...</td>\n",
       "      <td>53587467</td>\n",
       "    </tr>\n",
       "    <tr>\n",
       "      <th>3</th>\n",
       "      <td>5a11baf0c7782d026b5037fa</td>\n",
       "      <td>Accuracy paradox</td>\n",
       "      <td>Machine learning</td>\n",
       "      <td>The '''accuracy paradox''' for [[predictive an...</td>\n",
       "      <td>3771060</td>\n",
       "    </tr>\n",
       "    <tr>\n",
       "      <th>4</th>\n",
       "      <td>5a11baf0c7782d026b5037fb</td>\n",
       "      <td>Action model learning</td>\n",
       "      <td>Machine learning</td>\n",
       "      <td>{{Machine learning bar}}\\n\\n'''Action model le...</td>\n",
       "      <td>43808044</td>\n",
       "    </tr>\n",
       "  </tbody>\n",
       "</table>\n",
       "</div>"
      ],
      "text/plain": [
       "                        _id                                         article  \\\n",
       "0  5a11baefc7782d026b5037f7  List of datasets for machine learning research   \n",
       "1  5a11baefc7782d026b5037f8                                Machine learning   \n",
       "2  5a11baf0c7782d026b5037f9                     Outline of machine learning   \n",
       "3  5a11baf0c7782d026b5037fa                                Accuracy paradox   \n",
       "4  5a11baf0c7782d026b5037fb                           Action model learning   \n",
       "\n",
       "           category                                            content  \\\n",
       "0  Machine learning  {{Use dmy dates|date=September 2017}}\\n{{machi...   \n",
       "1  Machine learning  {{for|the journal|Machine Learning (journal)}}...   \n",
       "2  Machine learning  <!--... Attention:  THIS IS AN OUTLINE\\n\\n    ...   \n",
       "3  Machine learning  The '''accuracy paradox''' for [[predictive an...   \n",
       "4  Machine learning  {{Machine learning bar}}\\n\\n'''Action model le...   \n",
       "\n",
       "    page_id  \n",
       "0  49082762  \n",
       "1    233488  \n",
       "2  53587467  \n",
       "3   3771060  \n",
       "4  43808044  "
      ]
     },
     "execution_count": 26,
     "metadata": {},
     "output_type": "execute_result"
    }
   ],
   "source": [
    "machine_df.head()"
   ]
  },
  {
   "cell_type": "code",
   "execution_count": 27,
   "metadata": {},
   "outputs": [],
   "source": [
    "machine_df['clean_text'] = machine_df['content'].apply(cleaner)"
   ]
  },
  {
   "cell_type": "code",
   "execution_count": 34,
   "metadata": {},
   "outputs": [
    {
     "data": {
      "text/plain": [
       "0     datum set dataset machine learn research cite ...\n",
       "1     machine learning field computer science give c...\n",
       "2     attention outline set outline list portal cont...\n",
       "3     accuracy paradox predictive analytic state pre...\n",
       "4     action model learning abbreviated action learn...\n",
       "5     active learning special case semi supervise le...\n",
       "6     adversarial machine learning research field li...\n",
       "7     infobox artist aiva nationality luxembourgish ...\n",
       "8     multiple issue aixi theoretical mathematical f...\n",
       "9     algorithm selection call instance algorithm se...\n",
       "10    algorithmic bias occur datum teach machine lea...\n",
       "11    algorithmic inference gather new development s...\n",
       "12    file alphago logo reverse svg alphago logo thu...\n",
       "13    alphago zero version deepmind software alphago...\n",
       "14    apprenticeship learning apprenticeship inverse...\n",
       "Name: clean_text, dtype: object"
      ]
     },
     "execution_count": 34,
     "metadata": {},
     "output_type": "execute_result"
    }
   ],
   "source": [
    "machine_df['clean_text'][0:15]"
   ]
  },
  {
   "cell_type": "code",
   "execution_count": null,
   "metadata": {},
   "outputs": [],
   "source": []
  }
 ],
 "metadata": {
  "kernelspec": {
   "display_name": "Python 3",
   "language": "python",
   "name": "python3"
  },
  "language_info": {
   "codemirror_mode": {
    "name": "ipython",
    "version": 3
   },
   "file_extension": ".py",
   "mimetype": "text/x-python",
   "name": "python",
   "nbconvert_exporter": "python",
   "pygments_lexer": "ipython3",
   "version": "3.6.2"
  }
 },
 "nbformat": 4,
 "nbformat_minor": 2
}
