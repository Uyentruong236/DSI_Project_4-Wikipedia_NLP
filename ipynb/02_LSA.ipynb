{
 "cells": [
  {
   "cell_type": "code",
   "execution_count": 56,
   "metadata": {},
   "outputs": [],
   "source": [
    "import re\n",
    "import requests\n",
    "import pandas as pd\n",
    "import numpy as np\n",
    "from tqdm import tqdm_notebook\n",
    "import pymongo\n",
    "import json\n",
    "import pymongo\n",
    "from sklearn.feature_extraction.text import CountVectorizer, TfidfVectorizer, HashingVectorizer\n",
    "from sklearn.decomposition import TruncatedSVD\n",
    "import matplotlib.pyplot as plt\n",
    "%matplotlib inline"
   ]
  },
  {
   "cell_type": "code",
   "execution_count": 91,
   "metadata": {},
   "outputs": [],
   "source": [
    "client = pymongo.MongoClient('54.201.199.246', 27016)\n",
    "\n",
    "wiki_db = client.wikipedia\n",
    "\n",
    "wiki_col = wiki_db.my_collection"
   ]
  },
  {
   "cell_type": "code",
   "execution_count": 92,
   "metadata": {},
   "outputs": [
    {
     "data": {
      "text/plain": [
       "5654"
      ]
     },
     "execution_count": 92,
     "metadata": {},
     "output_type": "execute_result"
    }
   ],
   "source": [
    "wiki_col.count()"
   ]
  },
  {
   "cell_type": "code",
   "execution_count": 93,
   "metadata": {},
   "outputs": [],
   "source": [
    "cursor = wiki_col.find()"
   ]
  },
  {
   "cell_type": "code",
   "execution_count": 94,
   "metadata": {},
   "outputs": [],
   "source": [
    "wiki_df = pd.DataFrame(list(cursor))"
   ]
  },
  {
   "cell_type": "code",
   "execution_count": 95,
   "metadata": {},
   "outputs": [
    {
     "data": {
      "text/plain": [
       "'Alteryx'"
      ]
     },
     "execution_count": 95,
     "metadata": {},
     "output_type": "execute_result"
    }
   ],
   "source": [
    "wiki_df['article'][4]"
   ]
  },
  {
   "cell_type": "code",
   "execution_count": 96,
   "metadata": {},
   "outputs": [
    {
     "data": {
      "text/html": [
       "<div>\n",
       "<table border=\"1\" class=\"dataframe\">\n",
       "  <thead>\n",
       "    <tr style=\"text-align: right;\">\n",
       "      <th></th>\n",
       "      <th>_id</th>\n",
       "      <th>article</th>\n",
       "      <th>content</th>\n",
       "      <th>main_cat</th>\n",
       "      <th>page_id</th>\n",
       "      <th>sub_cat</th>\n",
       "    </tr>\n",
       "  </thead>\n",
       "  <tbody>\n",
       "    <tr>\n",
       "      <th>0</th>\n",
       "      <td>5a15de5730b30c01325f0260</td>\n",
       "      <td>Business software</td>\n",
       "      <td>merge enterprise software date october softw...</td>\n",
       "      <td>Business software</td>\n",
       "      <td>1037763</td>\n",
       "      <td>Business software</td>\n",
       "    </tr>\n",
       "    <tr>\n",
       "      <th>1</th>\n",
       "      <td>5a15de5830b30c01325f0261</td>\n",
       "      <td>AccuSystems</td>\n",
       "      <td>multiple issue orphan date february notabili...</td>\n",
       "      <td>Business software</td>\n",
       "      <td>41270069</td>\n",
       "      <td>Business software</td>\n",
       "    </tr>\n",
       "    <tr>\n",
       "      <th>2</th>\n",
       "      <td>5a15de5830b30c01325f0262</td>\n",
       "      <td>Active policy management</td>\n",
       "      <td>active policy management business orient ent...</td>\n",
       "      <td>Business software</td>\n",
       "      <td>5211212</td>\n",
       "      <td>Business software</td>\n",
       "    </tr>\n",
       "    <tr>\n",
       "      <th>3</th>\n",
       "      <td>5a15de5830b30c01325f0263</td>\n",
       "      <td>Alexandria (library software)</td>\n",
       "      <td>use alexandria alexandria browser base softw...</td>\n",
       "      <td>Business software</td>\n",
       "      <td>28502793</td>\n",
       "      <td>Business software</td>\n",
       "    </tr>\n",
       "    <tr>\n",
       "      <th>4</th>\n",
       "      <td>5a15de5930b30c01325f0264</td>\n",
       "      <td>Alteryx</td>\n",
       "      <td>infobox company name alteryx logo file alter...</td>\n",
       "      <td>Business software</td>\n",
       "      <td>44133735</td>\n",
       "      <td>Business software</td>\n",
       "    </tr>\n",
       "  </tbody>\n",
       "</table>\n",
       "</div>"
      ],
      "text/plain": [
       "                        _id                        article  \\\n",
       "0  5a15de5730b30c01325f0260              Business software   \n",
       "1  5a15de5830b30c01325f0261                    AccuSystems   \n",
       "2  5a15de5830b30c01325f0262       Active policy management   \n",
       "3  5a15de5830b30c01325f0263  Alexandria (library software)   \n",
       "4  5a15de5930b30c01325f0264                        Alteryx   \n",
       "\n",
       "                                             content           main_cat  \\\n",
       "0    merge enterprise software date october softw...  Business software   \n",
       "1    multiple issue orphan date february notabili...  Business software   \n",
       "2    active policy management business orient ent...  Business software   \n",
       "3    use alexandria alexandria browser base softw...  Business software   \n",
       "4    infobox company name alteryx logo file alter...  Business software   \n",
       "\n",
       "    page_id            sub_cat  \n",
       "0   1037763  Business software  \n",
       "1  41270069  Business software  \n",
       "2   5211212  Business software  \n",
       "3  28502793  Business software  \n",
       "4  44133735  Business software  "
      ]
     },
     "execution_count": 96,
     "metadata": {},
     "output_type": "execute_result"
    }
   ],
   "source": [
    "wiki_df.head()"
   ]
  },
  {
   "cell_type": "code",
   "execution_count": 97,
   "metadata": {},
   "outputs": [],
   "source": [
    "tfidf_vectorizer = TfidfVectorizer(min_df = 20, stop_words = 'english')\n",
    "\n",
    "article_term_matrix_sps = tfidf_vectorizer.fit_transform(wiki_df.content)\n",
    "\n",
    "article_term_matrix_df = pd.DataFrame(article_term_matrix_sps.toarray(),\n",
    "                                       index=wiki_df.index,\n",
    "                                       columns=tfidf_vectorizer.get_feature_names())"
   ]
  },
  {
   "cell_type": "code",
   "execution_count": 98,
   "metadata": {},
   "outputs": [
    {
     "data": {
      "text/plain": [
       "(5654, 6367)"
      ]
     },
     "execution_count": 98,
     "metadata": {},
     "output_type": "execute_result"
    }
   ],
   "source": [
    "article_term_matrix_df.shape\n"
   ]
  },
  {
   "cell_type": "code",
   "execution_count": 72,
   "metadata": {},
   "outputs": [
    {
     "data": {
      "text/html": [
       "<div>\n",
       "<table border=\"1\" class=\"dataframe\">\n",
       "  <thead>\n",
       "    <tr style=\"text-align: right;\">\n",
       "      <th></th>\n",
       "      <th>article</th>\n",
       "      <th>content</th>\n",
       "      <th>aa</th>\n",
       "      <th>aaa</th>\n",
       "      <th>aaai</th>\n",
       "      <th>aaron</th>\n",
       "      <th>ab</th>\n",
       "      <th>abandon</th>\n",
       "      <th>abbr</th>\n",
       "      <th>abbrev</th>\n",
       "      <th>...</th>\n",
       "      <th>zhou</th>\n",
       "      <th>zimbra</th>\n",
       "      <th>zip</th>\n",
       "      <th>zoho</th>\n",
       "      <th>zone</th>\n",
       "      <th>zoo</th>\n",
       "      <th>zoom</th>\n",
       "      <th>zope</th>\n",
       "      <th>zurich</th>\n",
       "      <th>zx</th>\n",
       "    </tr>\n",
       "  </thead>\n",
       "  <tbody>\n",
       "    <tr>\n",
       "      <th>1413</th>\n",
       "      <td>EntireX</td>\n",
       "      <td>refimprove date august entirex dcom commerci...</td>\n",
       "      <td>0.0</td>\n",
       "      <td>0.0</td>\n",
       "      <td>0.0</td>\n",
       "      <td>0.0</td>\n",
       "      <td>0.0</td>\n",
       "      <td>0.0</td>\n",
       "      <td>0.0</td>\n",
       "      <td>0.0</td>\n",
       "      <td>...</td>\n",
       "      <td>0.0</td>\n",
       "      <td>0.0</td>\n",
       "      <td>0.0</td>\n",
       "      <td>0.0</td>\n",
       "      <td>0.0</td>\n",
       "      <td>0.0</td>\n",
       "      <td>0.0</td>\n",
       "      <td>0.0</td>\n",
       "      <td>0.0</td>\n",
       "      <td>0.0</td>\n",
       "    </tr>\n",
       "    <tr>\n",
       "      <th>529</th>\n",
       "      <td>Tycoon City: New York</td>\n",
       "      <td>infobox video game title tycoon city new yor...</td>\n",
       "      <td>0.0</td>\n",
       "      <td>0.0</td>\n",
       "      <td>0.0</td>\n",
       "      <td>0.0</td>\n",
       "      <td>0.0</td>\n",
       "      <td>0.0</td>\n",
       "      <td>0.0</td>\n",
       "      <td>0.0</td>\n",
       "      <td>...</td>\n",
       "      <td>0.0</td>\n",
       "      <td>0.0</td>\n",
       "      <td>0.0</td>\n",
       "      <td>0.0</td>\n",
       "      <td>0.0</td>\n",
       "      <td>0.0</td>\n",
       "      <td>0.0</td>\n",
       "      <td>0.0</td>\n",
       "      <td>0.0</td>\n",
       "      <td>0.0</td>\n",
       "    </tr>\n",
       "    <tr>\n",
       "      <th>4330</th>\n",
       "      <td>Keras</td>\n",
       "      <td>infobox software name kera logo file kera lo...</td>\n",
       "      <td>0.0</td>\n",
       "      <td>0.0</td>\n",
       "      <td>0.0</td>\n",
       "      <td>0.0</td>\n",
       "      <td>0.0</td>\n",
       "      <td>0.0</td>\n",
       "      <td>0.0</td>\n",
       "      <td>0.0</td>\n",
       "      <td>...</td>\n",
       "      <td>0.0</td>\n",
       "      <td>0.0</td>\n",
       "      <td>0.0</td>\n",
       "      <td>0.0</td>\n",
       "      <td>0.0</td>\n",
       "      <td>0.0</td>\n",
       "      <td>0.0</td>\n",
       "      <td>0.0</td>\n",
       "      <td>0.0</td>\n",
       "      <td>0.0</td>\n",
       "    </tr>\n",
       "    <tr>\n",
       "      <th>3629</th>\n",
       "      <td>Springpad</td>\n",
       "      <td>infobox website name springpad logo screensh...</td>\n",
       "      <td>0.0</td>\n",
       "      <td>0.0</td>\n",
       "      <td>0.0</td>\n",
       "      <td>0.0</td>\n",
       "      <td>0.0</td>\n",
       "      <td>0.0</td>\n",
       "      <td>0.0</td>\n",
       "      <td>0.0</td>\n",
       "      <td>...</td>\n",
       "      <td>0.0</td>\n",
       "      <td>0.0</td>\n",
       "      <td>0.0</td>\n",
       "      <td>0.0</td>\n",
       "      <td>0.0</td>\n",
       "      <td>0.0</td>\n",
       "      <td>0.0</td>\n",
       "      <td>0.0</td>\n",
       "      <td>0.0</td>\n",
       "      <td>0.0</td>\n",
       "    </tr>\n",
       "  </tbody>\n",
       "</table>\n",
       "<p>4 rows × 6370 columns</p>\n",
       "</div>"
      ],
      "text/plain": [
       "                    article  \\\n",
       "1413                EntireX   \n",
       "529   Tycoon City: New York   \n",
       "4330                  Keras   \n",
       "3629              Springpad   \n",
       "\n",
       "                                                content   aa  aaa  aaai  \\\n",
       "1413    refimprove date august entirex dcom commerci...  0.0  0.0   0.0   \n",
       "529     infobox video game title tycoon city new yor...  0.0  0.0   0.0   \n",
       "4330    infobox software name kera logo file kera lo...  0.0  0.0   0.0   \n",
       "3629    infobox website name springpad logo screensh...  0.0  0.0   0.0   \n",
       "\n",
       "      aaron   ab  abandon  abbr  abbrev ...   zhou  zimbra  zip  zoho  zone  \\\n",
       "1413    0.0  0.0      0.0   0.0     0.0 ...    0.0     0.0  0.0   0.0   0.0   \n",
       "529     0.0  0.0      0.0   0.0     0.0 ...    0.0     0.0  0.0   0.0   0.0   \n",
       "4330    0.0  0.0      0.0   0.0     0.0 ...    0.0     0.0  0.0   0.0   0.0   \n",
       "3629    0.0  0.0      0.0   0.0     0.0 ...    0.0     0.0  0.0   0.0   0.0   \n",
       "\n",
       "      zoo  zoom  zope  zurich   zx  \n",
       "1413  0.0   0.0   0.0     0.0  0.0  \n",
       "529   0.0   0.0   0.0     0.0  0.0  \n",
       "4330  0.0   0.0   0.0     0.0  0.0  \n",
       "3629  0.0   0.0   0.0     0.0  0.0  \n",
       "\n",
       "[4 rows x 6370 columns]"
      ]
     },
     "execution_count": 72,
     "metadata": {},
     "output_type": "execute_result"
    }
   ],
   "source": [
    "pd.concat([wiki_df.article, wiki_df.content, article_term_matrix_df], axis=1).sample(4)"
   ]
  },
  {
   "cell_type": "code",
   "execution_count": 77,
   "metadata": {},
   "outputs": [],
   "source": [
    "n_components = 25\n",
    "SVD = TruncatedSVD(n_components)\n",
    "component_names = [\"component_\"+str(i+1) for i in range(n_components)]"
   ]
  },
  {
   "cell_type": "code",
   "execution_count": 78,
   "metadata": {},
   "outputs": [],
   "source": [
    "svd_matrix = SVD.fit_transform(article_term_matrix_df)"
   ]
  },
  {
   "cell_type": "code",
   "execution_count": 79,
   "metadata": {},
   "outputs": [
    {
     "data": {
      "text/plain": [
       "0.18061032458890552"
      ]
     },
     "execution_count": 79,
     "metadata": {},
     "output_type": "execute_result"
    }
   ],
   "source": [
    "sum(SVD.explained_variance_ratio_)"
   ]
  },
  {
   "cell_type": "code",
   "execution_count": 80,
   "metadata": {},
   "outputs": [
    {
     "data": {
      "text/plain": [
       "[<matplotlib.lines.Line2D at 0x7f89e4968780>]"
      ]
     },
     "execution_count": 80,
     "metadata": {},
     "output_type": "execute_result"
    },
    {
     "data": {
      "image/png": "[encoded data removed]",
      "text/plain": [
       "<matplotlib.figure.Figure at 0x7f8a18a788d0>"
      ]
     },
     "metadata": {},
     "output_type": "display_data"
    }
   ],
   "source": [
    "plt.plot(SVD.explained_variance_ratio_)"
   ]
  },
  {
   "cell_type": "code",
   "execution_count": 61,
   "metadata": {},
   "outputs": [],
   "source": [
    "latent_semantic_analysis = pd.DataFrame(svd_matrix,\n",
    "                                        index=article_term_matrix_df.index,\n",
    "                                        columns=component_names)\n",
    "latent_semantic_analysis['content'] = wiki_df.content\n",
    "latent_semantic_analysis['article'] = wiki_df.article\n",
    "\n",
    "vocabulary_expression = pd.DataFrame(SVD.components_,\n",
    "                                     index=component_names,\n",
    "                                     columns=tfidf_vectorizer.get_feature_names()).T"
   ]
  },
  {
   "cell_type": "code",
   "execution_count": 62,
   "metadata": {},
   "outputs": [],
   "source": [
    "for i in range(1,11):\n",
    "    vocabulary_expression['abs_component_{}'.format(i)] = \\\n",
    "    np.abs(vocabulary_expression['component_{}'.format(i)])"
   ]
  },
  {
   "cell_type": "code",
   "execution_count": 63,
   "metadata": {},
   "outputs": [
    {
     "data": {
      "text/html": [
       "<div>\n",
       "<table border=\"1\" class=\"dataframe\">\n",
       "  <thead>\n",
       "    <tr style=\"text-align: right;\">\n",
       "      <th></th>\n",
       "      <th>component_1</th>\n",
       "      <th>component_2</th>\n",
       "      <th>component_3</th>\n",
       "      <th>component_4</th>\n",
       "      <th>component_5</th>\n",
       "      <th>component_6</th>\n",
       "      <th>component_7</th>\n",
       "      <th>component_8</th>\n",
       "      <th>component_9</th>\n",
       "      <th>component_10</th>\n",
       "      <th>...</th>\n",
       "      <th>abs_component_1</th>\n",
       "      <th>abs_component_2</th>\n",
       "      <th>abs_component_3</th>\n",
       "      <th>abs_component_4</th>\n",
       "      <th>abs_component_5</th>\n",
       "      <th>abs_component_6</th>\n",
       "      <th>abs_component_7</th>\n",
       "      <th>abs_component_8</th>\n",
       "      <th>abs_component_9</th>\n",
       "      <th>abs_component_10</th>\n",
       "    </tr>\n",
       "  </thead>\n",
       "  <tbody>\n",
       "    <tr>\n",
       "      <th>aa</th>\n",
       "      <td>0.000693</td>\n",
       "      <td>0.000029</td>\n",
       "      <td>0.000736</td>\n",
       "      <td>0.000303</td>\n",
       "      <td>0.000499</td>\n",
       "      <td>-0.001310</td>\n",
       "      <td>-0.001095</td>\n",
       "      <td>0.000305</td>\n",
       "      <td>-0.001575</td>\n",
       "      <td>0.001189</td>\n",
       "      <td>...</td>\n",
       "      <td>0.000693</td>\n",
       "      <td>0.000029</td>\n",
       "      <td>0.000736</td>\n",
       "      <td>0.000303</td>\n",
       "      <td>0.000499</td>\n",
       "      <td>0.001310</td>\n",
       "      <td>0.001095</td>\n",
       "      <td>0.000305</td>\n",
       "      <td>0.001575</td>\n",
       "      <td>0.001189</td>\n",
       "    </tr>\n",
       "    <tr>\n",
       "      <th>aaai</th>\n",
       "      <td>0.001995</td>\n",
       "      <td>0.001196</td>\n",
       "      <td>0.007201</td>\n",
       "      <td>0.002269</td>\n",
       "      <td>0.002316</td>\n",
       "      <td>0.005222</td>\n",
       "      <td>-0.002294</td>\n",
       "      <td>0.008625</td>\n",
       "      <td>0.002817</td>\n",
       "      <td>-0.000059</td>\n",
       "      <td>...</td>\n",
       "      <td>0.001995</td>\n",
       "      <td>0.001196</td>\n",
       "      <td>0.007201</td>\n",
       "      <td>0.002269</td>\n",
       "      <td>0.002316</td>\n",
       "      <td>0.005222</td>\n",
       "      <td>0.002294</td>\n",
       "      <td>0.008625</td>\n",
       "      <td>0.002817</td>\n",
       "      <td>0.000059</td>\n",
       "    </tr>\n",
       "    <tr>\n",
       "      <th>ab</th>\n",
       "      <td>0.002408</td>\n",
       "      <td>-0.000270</td>\n",
       "      <td>0.000955</td>\n",
       "      <td>0.003497</td>\n",
       "      <td>-0.000665</td>\n",
       "      <td>-0.002633</td>\n",
       "      <td>-0.000577</td>\n",
       "      <td>0.000793</td>\n",
       "      <td>0.000074</td>\n",
       "      <td>-0.001750</td>\n",
       "      <td>...</td>\n",
       "      <td>0.002408</td>\n",
       "      <td>0.000270</td>\n",
       "      <td>0.000955</td>\n",
       "      <td>0.003497</td>\n",
       "      <td>0.000665</td>\n",
       "      <td>0.002633</td>\n",
       "      <td>0.000577</td>\n",
       "      <td>0.000793</td>\n",
       "      <td>0.000074</td>\n",
       "      <td>0.001750</td>\n",
       "    </tr>\n",
       "    <tr>\n",
       "      <th>abandon</th>\n",
       "      <td>0.002084</td>\n",
       "      <td>0.001059</td>\n",
       "      <td>0.000111</td>\n",
       "      <td>-0.001929</td>\n",
       "      <td>0.001327</td>\n",
       "      <td>0.000614</td>\n",
       "      <td>-0.001386</td>\n",
       "      <td>0.001428</td>\n",
       "      <td>0.002129</td>\n",
       "      <td>0.002568</td>\n",
       "      <td>...</td>\n",
       "      <td>0.002084</td>\n",
       "      <td>0.001059</td>\n",
       "      <td>0.000111</td>\n",
       "      <td>0.001929</td>\n",
       "      <td>0.001327</td>\n",
       "      <td>0.000614</td>\n",
       "      <td>0.001386</td>\n",
       "      <td>0.001428</td>\n",
       "      <td>0.002129</td>\n",
       "      <td>0.002568</td>\n",
       "    </tr>\n",
       "    <tr>\n",
       "      <th>abbreviate</th>\n",
       "      <td>0.001245</td>\n",
       "      <td>0.001006</td>\n",
       "      <td>0.000712</td>\n",
       "      <td>-0.000245</td>\n",
       "      <td>0.000585</td>\n",
       "      <td>-0.000010</td>\n",
       "      <td>0.000034</td>\n",
       "      <td>-0.001849</td>\n",
       "      <td>-0.000800</td>\n",
       "      <td>0.003032</td>\n",
       "      <td>...</td>\n",
       "      <td>0.001245</td>\n",
       "      <td>0.001006</td>\n",
       "      <td>0.000712</td>\n",
       "      <td>0.000245</td>\n",
       "      <td>0.000585</td>\n",
       "      <td>0.000010</td>\n",
       "      <td>0.000034</td>\n",
       "      <td>0.001849</td>\n",
       "      <td>0.000800</td>\n",
       "      <td>0.003032</td>\n",
       "    </tr>\n",
       "    <tr>\n",
       "      <th>abbreviation</th>\n",
       "      <td>0.001465</td>\n",
       "      <td>0.000058</td>\n",
       "      <td>0.001689</td>\n",
       "      <td>-0.000033</td>\n",
       "      <td>0.002777</td>\n",
       "      <td>0.000904</td>\n",
       "      <td>0.001212</td>\n",
       "      <td>0.002320</td>\n",
       "      <td>-0.000369</td>\n",
       "      <td>0.000596</td>\n",
       "      <td>...</td>\n",
       "      <td>0.001465</td>\n",
       "      <td>0.000058</td>\n",
       "      <td>0.001689</td>\n",
       "      <td>0.000033</td>\n",
       "      <td>0.002777</td>\n",
       "      <td>0.000904</td>\n",
       "      <td>0.001212</td>\n",
       "      <td>0.002320</td>\n",
       "      <td>0.000369</td>\n",
       "      <td>0.000596</td>\n",
       "    </tr>\n",
       "    <tr>\n",
       "      <th>ability</th>\n",
       "      <td>0.013607</td>\n",
       "      <td>0.005616</td>\n",
       "      <td>0.005459</td>\n",
       "      <td>-0.004576</td>\n",
       "      <td>0.006147</td>\n",
       "      <td>-0.007347</td>\n",
       "      <td>-0.008283</td>\n",
       "      <td>-0.018065</td>\n",
       "      <td>-0.014822</td>\n",
       "      <td>0.015807</td>\n",
       "      <td>...</td>\n",
       "      <td>0.013607</td>\n",
       "      <td>0.005616</td>\n",
       "      <td>0.005459</td>\n",
       "      <td>0.004576</td>\n",
       "      <td>0.006147</td>\n",
       "      <td>0.007347</td>\n",
       "      <td>0.008283</td>\n",
       "      <td>0.018065</td>\n",
       "      <td>0.014822</td>\n",
       "      <td>0.015807</td>\n",
       "    </tr>\n",
       "    <tr>\n",
       "      <th>able</th>\n",
       "      <td>0.009827</td>\n",
       "      <td>0.006418</td>\n",
       "      <td>0.007358</td>\n",
       "      <td>-0.000741</td>\n",
       "      <td>0.002522</td>\n",
       "      <td>-0.005049</td>\n",
       "      <td>0.002191</td>\n",
       "      <td>-0.007890</td>\n",
       "      <td>-0.005350</td>\n",
       "      <td>0.007128</td>\n",
       "      <td>...</td>\n",
       "      <td>0.009827</td>\n",
       "      <td>0.006418</td>\n",
       "      <td>0.007358</td>\n",
       "      <td>0.000741</td>\n",
       "      <td>0.002522</td>\n",
       "      <td>0.005049</td>\n",
       "      <td>0.002191</td>\n",
       "      <td>0.007890</td>\n",
       "      <td>0.005350</td>\n",
       "      <td>0.007128</td>\n",
       "    </tr>\n",
       "    <tr>\n",
       "      <th>abs</th>\n",
       "      <td>0.001723</td>\n",
       "      <td>0.000541</td>\n",
       "      <td>0.006222</td>\n",
       "      <td>0.000207</td>\n",
       "      <td>0.000393</td>\n",
       "      <td>0.002444</td>\n",
       "      <td>0.000052</td>\n",
       "      <td>0.004062</td>\n",
       "      <td>0.002599</td>\n",
       "      <td>0.003015</td>\n",
       "      <td>...</td>\n",
       "      <td>0.001723</td>\n",
       "      <td>0.000541</td>\n",
       "      <td>0.006222</td>\n",
       "      <td>0.000207</td>\n",
       "      <td>0.000393</td>\n",
       "      <td>0.002444</td>\n",
       "      <td>0.000052</td>\n",
       "      <td>0.004062</td>\n",
       "      <td>0.002599</td>\n",
       "      <td>0.003015</td>\n",
       "    </tr>\n",
       "    <tr>\n",
       "      <th>absence</th>\n",
       "      <td>0.001012</td>\n",
       "      <td>0.000550</td>\n",
       "      <td>0.001395</td>\n",
       "      <td>0.000454</td>\n",
       "      <td>0.000919</td>\n",
       "      <td>-0.001420</td>\n",
       "      <td>-0.000039</td>\n",
       "      <td>-0.003094</td>\n",
       "      <td>-0.000391</td>\n",
       "      <td>-0.000030</td>\n",
       "      <td>...</td>\n",
       "      <td>0.001012</td>\n",
       "      <td>0.000550</td>\n",
       "      <td>0.001395</td>\n",
       "      <td>0.000454</td>\n",
       "      <td>0.000919</td>\n",
       "      <td>0.001420</td>\n",
       "      <td>0.000039</td>\n",
       "      <td>0.003094</td>\n",
       "      <td>0.000391</td>\n",
       "      <td>0.000030</td>\n",
       "    </tr>\n",
       "  </tbody>\n",
       "</table>\n",
       "<p>10 rows × 310 columns</p>\n",
       "</div>"
      ],
      "text/plain": [
       "              component_1  component_2  component_3  component_4  component_5  \\\n",
       "aa               0.000693     0.000029     0.000736     0.000303     0.000499   \n",
       "aaai             0.001995     0.001196     0.007201     0.002269     0.002316   \n",
       "ab               0.002408    -0.000270     0.000955     0.003497    -0.000665   \n",
       "abandon          0.002084     0.001059     0.000111    -0.001929     0.001327   \n",
       "abbreviate       0.001245     0.001006     0.000712    -0.000245     0.000585   \n",
       "abbreviation     0.001465     0.000058     0.001689    -0.000033     0.002777   \n",
       "ability          0.013607     0.005616     0.005459    -0.004576     0.006147   \n",
       "able             0.009827     0.006418     0.007358    -0.000741     0.002522   \n",
       "abs              0.001723     0.000541     0.006222     0.000207     0.000393   \n",
       "absence          0.001012     0.000550     0.001395     0.000454     0.000919   \n",
       "\n",
       "              component_6  component_7  component_8  component_9  \\\n",
       "aa              -0.001310    -0.001095     0.000305    -0.001575   \n",
       "aaai             0.005222    -0.002294     0.008625     0.002817   \n",
       "ab              -0.002633    -0.000577     0.000793     0.000074   \n",
       "abandon          0.000614    -0.001386     0.001428     0.002129   \n",
       "abbreviate      -0.000010     0.000034    -0.001849    -0.000800   \n",
       "abbreviation     0.000904     0.001212     0.002320    -0.000369   \n",
       "ability         -0.007347    -0.008283    -0.018065    -0.014822   \n",
       "able            -0.005049     0.002191    -0.007890    -0.005350   \n",
       "abs              0.002444     0.000052     0.004062     0.002599   \n",
       "absence         -0.001420    -0.000039    -0.003094    -0.000391   \n",
       "\n",
       "              component_10        ...         abs_component_1  \\\n",
       "aa                0.001189        ...                0.000693   \n",
       "aaai             -0.000059        ...                0.001995   \n",
       "ab               -0.001750        ...                0.002408   \n",
       "abandon           0.002568        ...                0.002084   \n",
       "abbreviate        0.003032        ...                0.001245   \n",
       "abbreviation      0.000596        ...                0.001465   \n",
       "ability           0.015807        ...                0.013607   \n",
       "able              0.007128        ...                0.009827   \n",
       "abs               0.003015        ...                0.001723   \n",
       "absence          -0.000030        ...                0.001012   \n",
       "\n",
       "              abs_component_2  abs_component_3  abs_component_4  \\\n",
       "aa                   0.000029         0.000736         0.000303   \n",
       "aaai                 0.001196         0.007201         0.002269   \n",
       "ab                   0.000270         0.000955         0.003497   \n",
       "abandon              0.001059         0.000111         0.001929   \n",
       "abbreviate           0.001006         0.000712         0.000245   \n",
       "abbreviation         0.000058         0.001689         0.000033   \n",
       "ability              0.005616         0.005459         0.004576   \n",
       "able                 0.006418         0.007358         0.000741   \n",
       "abs                  0.000541         0.006222         0.000207   \n",
       "absence              0.000550         0.001395         0.000454   \n",
       "\n",
       "              abs_component_5  abs_component_6  abs_component_7  \\\n",
       "aa                   0.000499         0.001310         0.001095   \n",
       "aaai                 0.002316         0.005222         0.002294   \n",
       "ab                   0.000665         0.002633         0.000577   \n",
       "abandon              0.001327         0.000614         0.001386   \n",
       "abbreviate           0.000585         0.000010         0.000034   \n",
       "abbreviation         0.002777         0.000904         0.001212   \n",
       "ability              0.006147         0.007347         0.008283   \n",
       "able                 0.002522         0.005049         0.002191   \n",
       "abs                  0.000393         0.002444         0.000052   \n",
       "absence              0.000919         0.001420         0.000039   \n",
       "\n",
       "              abs_component_8  abs_component_9  abs_component_10  \n",
       "aa                   0.000305         0.001575          0.001189  \n",
       "aaai                 0.008625         0.002817          0.000059  \n",
       "ab                   0.000793         0.000074          0.001750  \n",
       "abandon              0.001428         0.002129          0.002568  \n",
       "abbreviate           0.001849         0.000800          0.003032  \n",
       "abbreviation         0.002320         0.000369          0.000596  \n",
       "ability              0.018065         0.014822          0.015807  \n",
       "able                 0.007890         0.005350          0.007128  \n",
       "abs                  0.004062         0.002599          0.003015  \n",
       "absence              0.003094         0.000391          0.000030  \n",
       "\n",
       "[10 rows x 310 columns]"
      ]
     },
     "execution_count": 63,
     "metadata": {},
     "output_type": "execute_result"
    }
   ],
   "source": [
    "vocabulary_expression.head(10)"
   ]
  },
  {
   "cell_type": "code",
   "execution_count": 64,
   "metadata": {},
   "outputs": [
    {
     "data": {
      "text/plain": [
       "software      0.327799\n",
       "category      0.182234\n",
       "company       0.180900\n",
       "management    0.180333\n",
       "com           0.141697\n",
       "http          0.140977\n",
       "release       0.131323\n",
       "Name: abs_component_1, dtype: float64"
      ]
     },
     "execution_count": 64,
     "metadata": {},
     "output_type": "execute_result"
    }
   ],
   "source": [
    "vocabulary_expression['abs_component_1'].sort_values(ascending=False).head(7)"
   ]
  },
  {
   "cell_type": "code",
   "execution_count": 65,
   "metadata": {},
   "outputs": [
    {
     "data": {
      "text/plain": [
       "game          0.821833\n",
       "player        0.249004\n",
       "video         0.221489\n",
       "tycoon        0.166521\n",
       "simulation    0.160566\n",
       "software      0.119955\n",
       "park          0.067495\n",
       "Name: abs_component_2, dtype: float64"
      ]
     },
     "execution_count": 65,
     "metadata": {},
     "output_type": "execute_result"
    }
   ],
   "source": [
    "vocabulary_expression['abs_component_2'].sort_values(ascending=False).head(7)"
   ]
  },
  {
   "cell_type": "code",
   "execution_count": 66,
   "metadata": {},
   "outputs": [
    {
     "data": {
      "text/plain": [
       "network      0.245513\n",
       "neural       0.241199\n",
       "algorithm    0.224955\n",
       "learn        0.213587\n",
       "model        0.186161\n",
       "company      0.172579\n",
       "software     0.172524\n",
       "Name: abs_component_3, dtype: float64"
      ]
     },
     "execution_count": 66,
     "metadata": {},
     "output_type": "execute_result"
    }
   ],
   "source": [
    "vocabulary_expression['abs_component_3'].sort_values(ascending=False).head(7)"
   ]
  },
  {
   "cell_type": "code",
   "execution_count": 67,
   "metadata": {},
   "outputs": [
    {
     "data": {
      "text/plain": [
       "company     0.469851\n",
       "java        0.188240\n",
       "release     0.175323\n",
       "language    0.165690\n",
       "version     0.140341\n",
       "free        0.137981\n",
       "apache      0.137744\n",
       "Name: abs_component_4, dtype: float64"
      ]
     },
     "execution_count": 67,
     "metadata": {},
     "output_type": "execute_result"
    }
   ],
   "source": [
    "vocabulary_expression['abs_component_4'].sort_values(ascending=False).head(7)"
   ]
  },
  {
   "cell_type": "code",
   "execution_count": 69,
   "metadata": {},
   "outputs": [
    {
     "data": {
      "text/plain": [
       "health        0.429385\n",
       "patient       0.226409\n",
       "medical       0.225164\n",
       "ref           0.217327\n",
       "record        0.211439\n",
       "java          0.195048\n",
       "healthcare    0.188276\n",
       "Name: abs_component_5, dtype: float64"
      ]
     },
     "execution_count": 69,
     "metadata": {},
     "output_type": "execute_result"
    }
   ],
   "source": [
    "vocabulary_expression['abs_component_5'].sort_values(ascending=False).head(7)"
   ]
  },
  {
   "cell_type": "code",
   "execution_count": null,
   "metadata": {},
   "outputs": [],
   "source": []
  }
 ],
 "metadata": {
  "kernelspec": {
   "display_name": "Python 3",
   "language": "python",
   "name": "python3"
  },
  "language_info": {
   "codemirror_mode": {
    "name": "ipython",
    "version": 3
   },
   "file_extension": ".py",
   "mimetype": "text/x-python",
   "name": "python",
   "nbconvert_exporter": "python",
   "pygments_lexer": "ipython3",
   "version": "3.6.2"
  }
 },
 "nbformat": 4,
 "nbformat_minor": 2
}
