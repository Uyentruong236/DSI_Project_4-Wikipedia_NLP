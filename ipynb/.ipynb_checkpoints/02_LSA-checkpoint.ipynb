{
 "cells": [
  {
   "cell_type": "code",
   "execution_count": 1,
   "metadata": {},
   "outputs": [],
   "source": [
    "import re\n",
    "import requests\n",
    "import pandas as pd\n",
    "import numpy as np\n",
    "from tqdm import tqdm_notebook\n",
    "import pymongo\n",
    "import json\n",
    "\n",
    "from nltk.corpus import stopwords\n",
    "from spacy.en import English\n",
    "from nltk.stem.porter import PorterStemmer\n",
    "import nltk\n",
    "from nltk.corpus import stopwords\n",
    "from spacy.en import STOP_WORDS\n",
    "nlp = English()\n",
    "stop = set(stopwords.words('english'))\n",
    "from sklearn.feature_extraction.text import CountVectorizer, TfidfVectorizer, HashingVectorizer"
   ]
  },
  {
   "cell_type": "code",
   "execution_count": 2,
   "metadata": {},
   "outputs": [],
   "source": [
    "client = pymongo.MongoClient('54.201.199.246', 27016)\n",
    "\n",
    "wiki_db = client.wikipedia\n",
    "\n",
    "wiki_col = wiki_db.my_collection"
   ]
  },
  {
   "cell_type": "code",
   "execution_count": 34,
   "metadata": {},
   "outputs": [
    {
     "data": {
      "text/plain": [
       "(['admin', 'local', 'my_database', 'test', 'wikipedia'], ['my_collection'])"
      ]
     },
     "execution_count": 34,
     "metadata": {},
     "output_type": "execute_result"
    }
   ],
   "source": [
    "client.database_names(), wiki_db.collection_names()"
   ]
  },
  {
   "cell_type": "code",
   "execution_count": 3,
   "metadata": {},
   "outputs": [
    {
     "data": {
      "text/plain": [
       "5654"
      ]
     },
     "execution_count": 3,
     "metadata": {},
     "output_type": "execute_result"
    }
   ],
   "source": [
    "wiki_col.count()"
   ]
  },
  {
   "cell_type": "code",
   "execution_count": 4,
   "metadata": {},
   "outputs": [],
   "source": [
    "cursor = wiki_col.find()"
   ]
  },
  {
   "cell_type": "code",
   "execution_count": 5,
   "metadata": {},
   "outputs": [],
   "source": [
    "wiki_df = pd.DataFrame(list(cursor))"
   ]
  },
  {
   "cell_type": "code",
   "execution_count": 6,
   "metadata": {},
   "outputs": [
    {
     "data": {
      "text/plain": [
       "Business software    4117\n",
       "Machine learning     1537\n",
       "Name: main_cat, dtype: int64"
      ]
     },
     "execution_count": 6,
     "metadata": {},
     "output_type": "execute_result"
    }
   ],
   "source": [
    "wiki_df['main_cat'].value_counts()"
   ]
  },
  {
   "cell_type": "code",
   "execution_count": 7,
   "metadata": {},
   "outputs": [
    {
     "data": {
      "text/html": [
       "<div>\n",
       "<table border=\"1\" class=\"dataframe\">\n",
       "  <thead>\n",
       "    <tr style=\"text-align: right;\">\n",
       "      <th></th>\n",
       "      <th>_id</th>\n",
       "      <th>article</th>\n",
       "      <th>content</th>\n",
       "      <th>main_cat</th>\n",
       "      <th>page_id</th>\n",
       "      <th>sub_cat</th>\n",
       "    </tr>\n",
       "  </thead>\n",
       "  <tbody>\n",
       "    <tr>\n",
       "      <th>0</th>\n",
       "      <td>5a15de5730b30c01325f0260</td>\n",
       "      <td>Business software</td>\n",
       "      <td>merge enterprise software date october softw...</td>\n",
       "      <td>Business software</td>\n",
       "      <td>1037763</td>\n",
       "      <td>Business software</td>\n",
       "    </tr>\n",
       "    <tr>\n",
       "      <th>1</th>\n",
       "      <td>5a15de5830b30c01325f0261</td>\n",
       "      <td>AccuSystems</td>\n",
       "      <td>multiple issue orphan date february notabili...</td>\n",
       "      <td>Business software</td>\n",
       "      <td>41270069</td>\n",
       "      <td>Business software</td>\n",
       "    </tr>\n",
       "    <tr>\n",
       "      <th>2</th>\n",
       "      <td>5a15de5830b30c01325f0262</td>\n",
       "      <td>Active policy management</td>\n",
       "      <td>active policy management business orient ent...</td>\n",
       "      <td>Business software</td>\n",
       "      <td>5211212</td>\n",
       "      <td>Business software</td>\n",
       "    </tr>\n",
       "    <tr>\n",
       "      <th>3</th>\n",
       "      <td>5a15de5830b30c01325f0263</td>\n",
       "      <td>Alexandria (library software)</td>\n",
       "      <td>use alexandria alexandria browser base softw...</td>\n",
       "      <td>Business software</td>\n",
       "      <td>28502793</td>\n",
       "      <td>Business software</td>\n",
       "    </tr>\n",
       "    <tr>\n",
       "      <th>4</th>\n",
       "      <td>5a15de5930b30c01325f0264</td>\n",
       "      <td>Alteryx</td>\n",
       "      <td>infobox company name alteryx logo file alter...</td>\n",
       "      <td>Business software</td>\n",
       "      <td>44133735</td>\n",
       "      <td>Business software</td>\n",
       "    </tr>\n",
       "  </tbody>\n",
       "</table>\n",
       "</div>"
      ],
      "text/plain": [
       "                        _id                        article  \\\n",
       "0  5a15de5730b30c01325f0260              Business software   \n",
       "1  5a15de5830b30c01325f0261                    AccuSystems   \n",
       "2  5a15de5830b30c01325f0262       Active policy management   \n",
       "3  5a15de5830b30c01325f0263  Alexandria (library software)   \n",
       "4  5a15de5930b30c01325f0264                        Alteryx   \n",
       "\n",
       "                                             content           main_cat  \\\n",
       "0    merge enterprise software date october softw...  Business software   \n",
       "1    multiple issue orphan date february notabili...  Business software   \n",
       "2    active policy management business orient ent...  Business software   \n",
       "3    use alexandria alexandria browser base softw...  Business software   \n",
       "4    infobox company name alteryx logo file alter...  Business software   \n",
       "\n",
       "    page_id            sub_cat  \n",
       "0   1037763  Business software  \n",
       "1  41270069  Business software  \n",
       "2   5211212  Business software  \n",
       "3  28502793  Business software  \n",
       "4  44133735  Business software  "
      ]
     },
     "execution_count": 7,
     "metadata": {},
     "output_type": "execute_result"
    }
   ],
   "source": [
    "wiki_df.head()"
   ]
  },
  {
   "cell_type": "code",
   "execution_count": 8,
   "metadata": {},
   "outputs": [],
   "source": [
    "wiki_df.drop_duplicates(subset=['page_id'], inplace=True)"
   ]
  },
  {
   "cell_type": "markdown",
   "metadata": {},
   "source": [
    "## Use TIFIDF to vectorize words"
   ]
  },
  {
   "cell_type": "code",
   "execution_count": 9,
   "metadata": {},
   "outputs": [],
   "source": [
    "tfidf_vectorizer = TfidfVectorizer(min_df = 5, stop_words = 'english')\n",
    "\n",
    "article_term_matrix_sps = tfidf_vectorizer.fit_transform(wiki_df.content)\n",
    "\n",
    "article_term_matrix_df = pd.DataFrame(article_term_matrix_sps.toarray(),\n",
    "                                       index=wiki_df.index,\n",
    "                                       columns=tfidf_vectorizer.get_feature_names())"
   ]
  },
  {
   "cell_type": "code",
   "execution_count": 10,
   "metadata": {},
   "outputs": [
    {
     "data": {
      "text/html": [
       "<div>\n",
       "<table border=\"1\" class=\"dataframe\">\n",
       "  <thead>\n",
       "    <tr style=\"text-align: right;\">\n",
       "      <th></th>\n",
       "      <th>aa</th>\n",
       "      <th>aaa</th>\n",
       "      <th>aaai</th>\n",
       "      <th>aachen</th>\n",
       "      <th>aalst</th>\n",
       "      <th>aalto</th>\n",
       "      <th>aaron</th>\n",
       "      <th>ab</th>\n",
       "      <th>abacus</th>\n",
       "      <th>abandon</th>\n",
       "      <th>...</th>\n",
       "      <th>zoom</th>\n",
       "      <th>zoomable</th>\n",
       "      <th>zootycoon</th>\n",
       "      <th>zope</th>\n",
       "      <th>zoubin</th>\n",
       "      <th>zserie</th>\n",
       "      <th>zu</th>\n",
       "      <th>zur</th>\n",
       "      <th>zurich</th>\n",
       "      <th>zx</th>\n",
       "    </tr>\n",
       "  </thead>\n",
       "  <tbody>\n",
       "    <tr>\n",
       "      <th>0</th>\n",
       "      <td>0.0</td>\n",
       "      <td>0.0</td>\n",
       "      <td>0.0</td>\n",
       "      <td>0.0</td>\n",
       "      <td>0.0</td>\n",
       "      <td>0.0</td>\n",
       "      <td>0.0</td>\n",
       "      <td>0.0</td>\n",
       "      <td>0.0</td>\n",
       "      <td>0.0</td>\n",
       "      <td>...</td>\n",
       "      <td>0.0</td>\n",
       "      <td>0.0</td>\n",
       "      <td>0.0</td>\n",
       "      <td>0.0</td>\n",
       "      <td>0.0</td>\n",
       "      <td>0.0</td>\n",
       "      <td>0.0</td>\n",
       "      <td>0.0</td>\n",
       "      <td>0.0</td>\n",
       "      <td>0.0</td>\n",
       "    </tr>\n",
       "    <tr>\n",
       "      <th>1</th>\n",
       "      <td>0.0</td>\n",
       "      <td>0.0</td>\n",
       "      <td>0.0</td>\n",
       "      <td>0.0</td>\n",
       "      <td>0.0</td>\n",
       "      <td>0.0</td>\n",
       "      <td>0.0</td>\n",
       "      <td>0.0</td>\n",
       "      <td>0.0</td>\n",
       "      <td>0.0</td>\n",
       "      <td>...</td>\n",
       "      <td>0.0</td>\n",
       "      <td>0.0</td>\n",
       "      <td>0.0</td>\n",
       "      <td>0.0</td>\n",
       "      <td>0.0</td>\n",
       "      <td>0.0</td>\n",
       "      <td>0.0</td>\n",
       "      <td>0.0</td>\n",
       "      <td>0.0</td>\n",
       "      <td>0.0</td>\n",
       "    </tr>\n",
       "    <tr>\n",
       "      <th>2</th>\n",
       "      <td>0.0</td>\n",
       "      <td>0.0</td>\n",
       "      <td>0.0</td>\n",
       "      <td>0.0</td>\n",
       "      <td>0.0</td>\n",
       "      <td>0.0</td>\n",
       "      <td>0.0</td>\n",
       "      <td>0.0</td>\n",
       "      <td>0.0</td>\n",
       "      <td>0.0</td>\n",
       "      <td>...</td>\n",
       "      <td>0.0</td>\n",
       "      <td>0.0</td>\n",
       "      <td>0.0</td>\n",
       "      <td>0.0</td>\n",
       "      <td>0.0</td>\n",
       "      <td>0.0</td>\n",
       "      <td>0.0</td>\n",
       "      <td>0.0</td>\n",
       "      <td>0.0</td>\n",
       "      <td>0.0</td>\n",
       "    </tr>\n",
       "    <tr>\n",
       "      <th>3</th>\n",
       "      <td>0.0</td>\n",
       "      <td>0.0</td>\n",
       "      <td>0.0</td>\n",
       "      <td>0.0</td>\n",
       "      <td>0.0</td>\n",
       "      <td>0.0</td>\n",
       "      <td>0.0</td>\n",
       "      <td>0.0</td>\n",
       "      <td>0.0</td>\n",
       "      <td>0.0</td>\n",
       "      <td>...</td>\n",
       "      <td>0.0</td>\n",
       "      <td>0.0</td>\n",
       "      <td>0.0</td>\n",
       "      <td>0.0</td>\n",
       "      <td>0.0</td>\n",
       "      <td>0.0</td>\n",
       "      <td>0.0</td>\n",
       "      <td>0.0</td>\n",
       "      <td>0.0</td>\n",
       "      <td>0.0</td>\n",
       "    </tr>\n",
       "    <tr>\n",
       "      <th>4</th>\n",
       "      <td>0.0</td>\n",
       "      <td>0.0</td>\n",
       "      <td>0.0</td>\n",
       "      <td>0.0</td>\n",
       "      <td>0.0</td>\n",
       "      <td>0.0</td>\n",
       "      <td>0.0</td>\n",
       "      <td>0.0</td>\n",
       "      <td>0.0</td>\n",
       "      <td>0.0</td>\n",
       "      <td>...</td>\n",
       "      <td>0.0</td>\n",
       "      <td>0.0</td>\n",
       "      <td>0.0</td>\n",
       "      <td>0.0</td>\n",
       "      <td>0.0</td>\n",
       "      <td>0.0</td>\n",
       "      <td>0.0</td>\n",
       "      <td>0.0</td>\n",
       "      <td>0.0</td>\n",
       "      <td>0.0</td>\n",
       "    </tr>\n",
       "  </tbody>\n",
       "</table>\n",
       "<p>5 rows × 13070 columns</p>\n",
       "</div>"
      ],
      "text/plain": [
       "    aa  aaa  aaai  aachen  aalst  aalto  aaron   ab  abacus  abandon ...   \\\n",
       "0  0.0  0.0   0.0     0.0    0.0    0.0    0.0  0.0     0.0      0.0 ...    \n",
       "1  0.0  0.0   0.0     0.0    0.0    0.0    0.0  0.0     0.0      0.0 ...    \n",
       "2  0.0  0.0   0.0     0.0    0.0    0.0    0.0  0.0     0.0      0.0 ...    \n",
       "3  0.0  0.0   0.0     0.0    0.0    0.0    0.0  0.0     0.0      0.0 ...    \n",
       "4  0.0  0.0   0.0     0.0    0.0    0.0    0.0  0.0     0.0      0.0 ...    \n",
       "\n",
       "   zoom  zoomable  zootycoon  zope  zoubin  zserie   zu  zur  zurich   zx  \n",
       "0   0.0       0.0        0.0   0.0     0.0     0.0  0.0  0.0     0.0  0.0  \n",
       "1   0.0       0.0        0.0   0.0     0.0     0.0  0.0  0.0     0.0  0.0  \n",
       "2   0.0       0.0        0.0   0.0     0.0     0.0  0.0  0.0     0.0  0.0  \n",
       "3   0.0       0.0        0.0   0.0     0.0     0.0  0.0  0.0     0.0  0.0  \n",
       "4   0.0       0.0        0.0   0.0     0.0     0.0  0.0  0.0     0.0  0.0  \n",
       "\n",
       "[5 rows x 13070 columns]"
      ]
     },
     "execution_count": 10,
     "metadata": {},
     "output_type": "execute_result"
    }
   ],
   "source": [
    "article_term_matrix_df.head()\n"
   ]
  },
  {
   "cell_type": "code",
   "execution_count": 11,
   "metadata": {},
   "outputs": [],
   "source": [
    "# pd.concat([wiki_df.article, wiki_df.content, article_term_matrix_df], axis=1).sample(4)"
   ]
  },
  {
   "cell_type": "markdown",
   "metadata": {},
   "source": [
    "## Use SVD to reduce number of features"
   ]
  },
  {
   "cell_type": "code",
   "execution_count": 12,
   "metadata": {},
   "outputs": [],
   "source": [
    "from sklearn.decomposition import TruncatedSVD"
   ]
  },
  {
   "cell_type": "code",
   "execution_count": 13,
   "metadata": {},
   "outputs": [],
   "source": [
    "n_components = 500\n",
    "SVD = TruncatedSVD(n_components)\n",
    "component_names = [\"component_\"+str(i+1) for i in range(n_components)]"
   ]
  },
  {
   "cell_type": "code",
   "execution_count": 14,
   "metadata": {},
   "outputs": [],
   "source": [
    "svd_matrix = SVD.fit_transform(article_term_matrix_df)"
   ]
  },
  {
   "cell_type": "code",
   "execution_count": 15,
   "metadata": {},
   "outputs": [
    {
     "data": {
      "text/plain": [
       "0.52821702070259036"
      ]
     },
     "execution_count": 15,
     "metadata": {},
     "output_type": "execute_result"
    }
   ],
   "source": [
    "sum(SVD.explained_variance_ratio_)"
   ]
  },
  {
   "cell_type": "code",
   "execution_count": 16,
   "metadata": {},
   "outputs": [],
   "source": [
    "svd_df = pd.DataFrame(svd_matrix,\n",
    "                      index=article_term_matrix_df.index,\n",
    "                      columns=component_names)\n",
    "svd_df['article'] = wiki_df.article\n",
    "\n",
    "vocabulary_expression = pd.DataFrame(SVD.components_,\n",
    "                                     index=component_names,\n",
    "                                     columns=tfidf_vectorizer.get_feature_names()).T"
   ]
  },
  {
   "cell_type": "code",
   "execution_count": 17,
   "metadata": {},
   "outputs": [
    {
     "data": {
      "text/html": [
       "<div>\n",
       "<table border=\"1\" class=\"dataframe\">\n",
       "  <thead>\n",
       "    <tr style=\"text-align: right;\">\n",
       "      <th></th>\n",
       "      <th>component_1</th>\n",
       "      <th>component_2</th>\n",
       "      <th>component_3</th>\n",
       "      <th>component_4</th>\n",
       "      <th>component_5</th>\n",
       "      <th>component_6</th>\n",
       "      <th>component_7</th>\n",
       "      <th>component_8</th>\n",
       "      <th>component_9</th>\n",
       "      <th>component_10</th>\n",
       "      <th>...</th>\n",
       "      <th>component_492</th>\n",
       "      <th>component_493</th>\n",
       "      <th>component_494</th>\n",
       "      <th>component_495</th>\n",
       "      <th>component_496</th>\n",
       "      <th>component_497</th>\n",
       "      <th>component_498</th>\n",
       "      <th>component_499</th>\n",
       "      <th>component_500</th>\n",
       "      <th>article</th>\n",
       "    </tr>\n",
       "  </thead>\n",
       "  <tbody>\n",
       "    <tr>\n",
       "      <th>0</th>\n",
       "      <td>0.404168</td>\n",
       "      <td>-0.056097</td>\n",
       "      <td>-0.039684</td>\n",
       "      <td>0.106238</td>\n",
       "      <td>-0.025485</td>\n",
       "      <td>0.182379</td>\n",
       "      <td>0.199905</td>\n",
       "      <td>0.079294</td>\n",
       "      <td>-0.107343</td>\n",
       "      <td>0.030513</td>\n",
       "      <td>...</td>\n",
       "      <td>0.008019</td>\n",
       "      <td>-0.001220</td>\n",
       "      <td>-0.000431</td>\n",
       "      <td>-0.010245</td>\n",
       "      <td>0.002946</td>\n",
       "      <td>0.018834</td>\n",
       "      <td>0.005699</td>\n",
       "      <td>0.001815</td>\n",
       "      <td>-0.005592</td>\n",
       "      <td>Business software</td>\n",
       "    </tr>\n",
       "    <tr>\n",
       "      <th>1</th>\n",
       "      <td>0.390635</td>\n",
       "      <td>-0.060633</td>\n",
       "      <td>-0.163631</td>\n",
       "      <td>0.281441</td>\n",
       "      <td>-0.074152</td>\n",
       "      <td>-0.036461</td>\n",
       "      <td>-0.064391</td>\n",
       "      <td>0.024975</td>\n",
       "      <td>-0.010817</td>\n",
       "      <td>-0.091205</td>\n",
       "      <td>...</td>\n",
       "      <td>0.010298</td>\n",
       "      <td>0.012780</td>\n",
       "      <td>-0.017377</td>\n",
       "      <td>-0.000120</td>\n",
       "      <td>0.024399</td>\n",
       "      <td>-0.006418</td>\n",
       "      <td>-0.018228</td>\n",
       "      <td>0.022363</td>\n",
       "      <td>0.029026</td>\n",
       "      <td>AccuSystems</td>\n",
       "    </tr>\n",
       "    <tr>\n",
       "      <th>2</th>\n",
       "      <td>0.183262</td>\n",
       "      <td>-0.027491</td>\n",
       "      <td>-0.010343</td>\n",
       "      <td>0.080166</td>\n",
       "      <td>0.060557</td>\n",
       "      <td>0.076863</td>\n",
       "      <td>0.041822</td>\n",
       "      <td>-0.033945</td>\n",
       "      <td>-0.070309</td>\n",
       "      <td>0.053343</td>\n",
       "      <td>...</td>\n",
       "      <td>0.012001</td>\n",
       "      <td>-0.000839</td>\n",
       "      <td>-0.021810</td>\n",
       "      <td>0.017554</td>\n",
       "      <td>0.011512</td>\n",
       "      <td>0.006574</td>\n",
       "      <td>-0.023655</td>\n",
       "      <td>-0.036717</td>\n",
       "      <td>0.008784</td>\n",
       "      <td>Active policy management</td>\n",
       "    </tr>\n",
       "    <tr>\n",
       "      <th>3</th>\n",
       "      <td>0.166694</td>\n",
       "      <td>-0.027517</td>\n",
       "      <td>-0.030793</td>\n",
       "      <td>-0.014078</td>\n",
       "      <td>0.000305</td>\n",
       "      <td>-0.000567</td>\n",
       "      <td>-0.013724</td>\n",
       "      <td>0.005905</td>\n",
       "      <td>0.001836</td>\n",
       "      <td>-0.002672</td>\n",
       "      <td>...</td>\n",
       "      <td>0.006311</td>\n",
       "      <td>0.016423</td>\n",
       "      <td>0.030078</td>\n",
       "      <td>-0.024864</td>\n",
       "      <td>0.022472</td>\n",
       "      <td>-0.050020</td>\n",
       "      <td>-0.019248</td>\n",
       "      <td>-0.000754</td>\n",
       "      <td>0.002544</td>\n",
       "      <td>Alexandria (library software)</td>\n",
       "    </tr>\n",
       "    <tr>\n",
       "      <th>4</th>\n",
       "      <td>0.291406</td>\n",
       "      <td>-0.043149</td>\n",
       "      <td>-0.110445</td>\n",
       "      <td>0.221959</td>\n",
       "      <td>-0.089297</td>\n",
       "      <td>-0.045727</td>\n",
       "      <td>-0.089188</td>\n",
       "      <td>0.003913</td>\n",
       "      <td>-0.038563</td>\n",
       "      <td>-0.061572</td>\n",
       "      <td>...</td>\n",
       "      <td>0.031528</td>\n",
       "      <td>-0.002506</td>\n",
       "      <td>-0.002626</td>\n",
       "      <td>-0.013431</td>\n",
       "      <td>0.005758</td>\n",
       "      <td>-0.010359</td>\n",
       "      <td>0.013569</td>\n",
       "      <td>0.009147</td>\n",
       "      <td>0.007183</td>\n",
       "      <td>Alteryx</td>\n",
       "    </tr>\n",
       "  </tbody>\n",
       "</table>\n",
       "<p>5 rows × 501 columns</p>\n",
       "</div>"
      ],
      "text/plain": [
       "   component_1  component_2  component_3  component_4  component_5  \\\n",
       "0     0.404168    -0.056097    -0.039684     0.106238    -0.025485   \n",
       "1     0.390635    -0.060633    -0.163631     0.281441    -0.074152   \n",
       "2     0.183262    -0.027491    -0.010343     0.080166     0.060557   \n",
       "3     0.166694    -0.027517    -0.030793    -0.014078     0.000305   \n",
       "4     0.291406    -0.043149    -0.110445     0.221959    -0.089297   \n",
       "\n",
       "   component_6  component_7  component_8  component_9  component_10  \\\n",
       "0     0.182379     0.199905     0.079294    -0.107343      0.030513   \n",
       "1    -0.036461    -0.064391     0.024975    -0.010817     -0.091205   \n",
       "2     0.076863     0.041822    -0.033945    -0.070309      0.053343   \n",
       "3    -0.000567    -0.013724     0.005905     0.001836     -0.002672   \n",
       "4    -0.045727    -0.089188     0.003913    -0.038563     -0.061572   \n",
       "\n",
       "               ...                component_492  component_493  component_494  \\\n",
       "0              ...                     0.008019      -0.001220      -0.000431   \n",
       "1              ...                     0.010298       0.012780      -0.017377   \n",
       "2              ...                     0.012001      -0.000839      -0.021810   \n",
       "3              ...                     0.006311       0.016423       0.030078   \n",
       "4              ...                     0.031528      -0.002506      -0.002626   \n",
       "\n",
       "   component_495  component_496  component_497  component_498  component_499  \\\n",
       "0      -0.010245       0.002946       0.018834       0.005699       0.001815   \n",
       "1      -0.000120       0.024399      -0.006418      -0.018228       0.022363   \n",
       "2       0.017554       0.011512       0.006574      -0.023655      -0.036717   \n",
       "3      -0.024864       0.022472      -0.050020      -0.019248      -0.000754   \n",
       "4      -0.013431       0.005758      -0.010359       0.013569       0.009147   \n",
       "\n",
       "   component_500                        article  \n",
       "0      -0.005592              Business software  \n",
       "1       0.029026                    AccuSystems  \n",
       "2       0.008784       Active policy management  \n",
       "3       0.002544  Alexandria (library software)  \n",
       "4       0.007183                        Alteryx  \n",
       "\n",
       "[5 rows x 501 columns]"
      ]
     },
     "execution_count": 17,
     "metadata": {},
     "output_type": "execute_result"
    }
   ],
   "source": [
    "svd_df.head()"
   ]
  },
  {
   "cell_type": "code",
   "execution_count": 18,
   "metadata": {},
   "outputs": [],
   "source": [
    "for i in range(1,11):\n",
    "    vocabulary_expression['abs_component_{}'.format(i)] = \\\n",
    "    np.abs(vocabulary_expression['component_{}'.format(i)])"
   ]
  },
  {
   "cell_type": "code",
   "execution_count": 19,
   "metadata": {
    "scrolled": true
   },
   "outputs": [
    {
     "data": {
      "text/plain": [
       "software      0.292050\n",
       "company       0.180620\n",
       "management    0.175485\n",
       "category      0.172117\n",
       "com           0.142446\n",
       "http          0.140439\n",
       "game          0.135387\n",
       "Name: abs_component_1, dtype: float64"
      ]
     },
     "execution_count": 19,
     "metadata": {},
     "output_type": "execute_result"
    }
   ],
   "source": [
    "vocabulary_expression['abs_component_1'].sort_values(ascending=False).head(7)"
   ]
  },
  {
   "cell_type": "markdown",
   "metadata": {},
   "source": [
    "## Create function to search for top 5 related articles"
   ]
  },
  {
   "cell_type": "code",
   "execution_count": 20,
   "metadata": {},
   "outputs": [],
   "source": [
    "from sklearn.metrics.pairwise import cosine_similarity"
   ]
  },
  {
   "cell_type": "code",
   "execution_count": 43,
   "metadata": {},
   "outputs": [],
   "source": [
    "def search_for_pages(search_terms):\n",
    "    '''\n",
    "    Takes search terms and returns the top 5 articles within the wikipedia corpus \n",
    "    that relate to that search terms using cosine similarity.\n",
    "    \n",
    "    Params\n",
    "    ------\n",
    "    search_terms: str\n",
    "        takes a string of words  \n",
    "    \n",
    "    Returns\n",
    "    -------\n",
    "    A Dataframe of the top 5 articles with the highest cosine similarities.\n",
    "     \n",
    "    '''\n",
    "    \n",
    "    temp_svd_df = svd_df.copy()\n",
    "    \n",
    "    search_terms = [search_terms]\n",
    "\n",
    "    search_terms_encoded = tfidf_vectorizer.transform(search_terms)\n",
    "    \n",
    "    search_term_svd_vector = SVD.transform(search_terms_encoded)\n",
    "    \n",
    "    temp_svd_df['cosine_sim'] = cosine_similarity(temp_svd_df.drop('article', axis=1), search_term_svd_vector)\n",
    "    \n",
    "    return temp_svd_df[['article', 'cosine_sim']].sort_values('cosine_sim', ascending=False).head(5)"
   ]
  },
  {
   "cell_type": "code",
   "execution_count": 50,
   "metadata": {},
   "outputs": [
    {
     "data": {
      "text/html": [
       "<div>\n",
       "<table border=\"1\" class=\"dataframe\">\n",
       "  <thead>\n",
       "    <tr style=\"text-align: right;\">\n",
       "      <th></th>\n",
       "      <th>article</th>\n",
       "      <th>cosine_sim</th>\n",
       "    </tr>\n",
       "  </thead>\n",
       "  <tbody>\n",
       "    <tr>\n",
       "      <th>992</th>\n",
       "      <td>Collaborative filtering</td>\n",
       "      <td>0.655930</td>\n",
       "    </tr>\n",
       "    <tr>\n",
       "      <th>2819</th>\n",
       "      <td>Content discovery platform</td>\n",
       "      <td>0.446930</td>\n",
       "    </tr>\n",
       "    <tr>\n",
       "      <th>4262</th>\n",
       "      <td>Preference learning</td>\n",
       "      <td>0.319424</td>\n",
       "    </tr>\n",
       "    <tr>\n",
       "      <th>767</th>\n",
       "      <td>Qloo</td>\n",
       "      <td>0.277688</td>\n",
       "    </tr>\n",
       "    <tr>\n",
       "      <th>4930</th>\n",
       "      <td>Jubatus</td>\n",
       "      <td>0.272441</td>\n",
       "    </tr>\n",
       "  </tbody>\n",
       "</table>\n",
       "</div>"
      ],
      "text/plain": [
       "                         article  cosine_sim\n",
       "992      Collaborative filtering    0.655930\n",
       "2819  Content discovery platform    0.446930\n",
       "4262         Preference learning    0.319424\n",
       "767                         Qloo    0.277688\n",
       "4930                     Jubatus    0.272441"
      ]
     },
     "execution_count": 50,
     "metadata": {},
     "output_type": "execute_result"
    }
   ],
   "source": [
    "search_for_pages('recommender systems for movies')"
   ]
  },
  {
   "cell_type": "markdown",
   "metadata": {},
   "source": [
    "## Create label for main categories "
   ]
  },
  {
   "cell_type": "code",
   "execution_count": 28,
   "metadata": {},
   "outputs": [],
   "source": [
    "from sklearn.preprocessing import LabelEncoder"
   ]
  },
  {
   "cell_type": "code",
   "execution_count": 29,
   "metadata": {},
   "outputs": [],
   "source": [
    "le = LabelEncoder()\n",
    "wiki_df['cat_numerical'] = le.fit_transform(wiki_df['main_cat'])"
   ]
  },
  {
   "cell_type": "code",
   "execution_count": 30,
   "metadata": {},
   "outputs": [
    {
     "data": {
      "text/plain": [
       "(4139, 7)"
      ]
     },
     "execution_count": 30,
     "metadata": {},
     "output_type": "execute_result"
    }
   ],
   "source": [
    "wiki_df.shape"
   ]
  }
 ],
 "metadata": {
  "kernelspec": {
   "display_name": "Python 3",
   "language": "python",
   "name": "python3"
  },
  "language_info": {
   "codemirror_mode": {
    "name": "ipython",
    "version": 3
   },
   "file_extension": ".py",
   "mimetype": "text/x-python",
   "name": "python",
   "nbconvert_exporter": "python",
   "pygments_lexer": "ipython3",
   "version": "3.6.2"
  }
 },
 "nbformat": 4,
 "nbformat_minor": 2
}
