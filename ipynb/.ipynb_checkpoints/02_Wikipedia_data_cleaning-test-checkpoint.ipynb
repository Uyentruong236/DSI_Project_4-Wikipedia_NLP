{
 "cells": [
  {
   "cell_type": "code",
   "execution_count": 1,
   "metadata": {},
   "outputs": [],
   "source": [
    "import re\n",
    "import requests\n",
    "import pandas as pd\n",
    "import numpy as np\n",
    "import pymongo\n",
    "import json\n",
    "from nltk.corpus import stopwords\n",
    "from spacy.en import English\n",
    "from nltk.stem.porter import PorterStemmer\n",
    "import nltk\n",
    "from nltk.corpus import stopwords\n",
    "from spacy.en import STOP_WORDS\n",
    "from bs4 import BeautifulSoup\n",
    "nlp = English()\n",
    "from sklearn.feature_extraction.text import CountVectorizer, TfidfVectorizer, HashingVectorizer"
   ]
  },
  {
   "cell_type": "code",
   "execution_count": 2,
   "metadata": {},
   "outputs": [
    {
     "data": {
      "text/plain": [
       "1636"
      ]
     },
     "execution_count": 2,
     "metadata": {},
     "output_type": "execute_result"
    }
   ],
   "source": [
    "client = pymongo.MongoClient('54.201.199.246', 27016)\n",
    "\n",
    "wiki_db = client.wikipedia\n",
    "\n",
    "wiki_col = wiki_db.my_collection\n",
    "\n",
    "wiki_col.count()"
   ]
  },
  {
   "cell_type": "code",
   "execution_count": 3,
   "metadata": {},
   "outputs": [],
   "source": [
    "cursor = wiki_col.find()"
   ]
  },
  {
   "cell_type": "code",
   "execution_count": 4,
   "metadata": {
    "scrolled": true
   },
   "outputs": [],
   "source": [
    "# next(cursor)['content']"
   ]
  },
  {
   "cell_type": "code",
   "execution_count": 5,
   "metadata": {},
   "outputs": [],
   "source": [
    "machine_df = pd.DataFrame(list(cursor))"
   ]
  },
  {
   "cell_type": "code",
   "execution_count": 6,
   "metadata": {},
   "outputs": [],
   "source": [
    "stop = set(stopwords.words('english'))"
   ]
  },
  {
   "cell_type": "code",
   "execution_count": 7,
   "metadata": {},
   "outputs": [],
   "source": [
    "def cleaner(text):\n",
    "    text = re.sub('&#39;','',text).lower()\n",
    "    text = re.sub('<br />','',text)\n",
    "    text = re.sub('<.*>.*</.*>','', text)\n",
    "    text = re.sub('\\\\ufeff', '', text)\n",
    "    text = re.sub('[\\d]','',text)\n",
    "    text = re.sub('[^a-z ]','',text)\n",
    "    text = re.sub(u'<.*>','',text)\n",
    "    text = re.sub(u'&#39;',' ',text)\n",
    "    text = re.sub(u'[^a-z\\s]','',text)\n",
    "    text = nlp(text)\n",
    "    text = [str(i.lemma_) for i in text if str(i.orth_) not in stop]\n",
    "    text = ' '.join(text)\n",
    "    \n",
    "    return text"
   ]
  },
  {
   "cell_type": "code",
   "execution_count": 8,
   "metadata": {},
   "outputs": [],
   "source": [
    "fixed_content = []\n",
    "for i, item in enumerate(machine_df['content']):\n",
    "    content = machine_df['content'][i]['*']\n",
    "    fixed_content.append(content)"
   ]
  },
  {
   "cell_type": "code",
   "execution_count": 9,
   "metadata": {},
   "outputs": [],
   "source": [
    "machine_df['content'] = fixed_content"
   ]
  },
  {
   "cell_type": "code",
   "execution_count": 10,
   "metadata": {},
   "outputs": [
    {
     "data": {
      "text/html": [
       "<div>\n",
       "<table border=\"1\" class=\"dataframe\">\n",
       "  <thead>\n",
       "    <tr style=\"text-align: right;\">\n",
       "      <th></th>\n",
       "      <th>_id</th>\n",
       "      <th>article</th>\n",
       "      <th>category</th>\n",
       "      <th>content</th>\n",
       "      <th>page_id</th>\n",
       "    </tr>\n",
       "  </thead>\n",
       "  <tbody>\n",
       "    <tr>\n",
       "      <th>0</th>\n",
       "      <td>5a11baefc7782d026b5037f6</td>\n",
       "      <td>Data exploration</td>\n",
       "      <td>Machine learning</td>\n",
       "      <td>{{Multiple issues|{{refimprove|date=July 2017}...</td>\n",
       "      <td>43385931</td>\n",
       "    </tr>\n",
       "    <tr>\n",
       "      <th>1</th>\n",
       "      <td>5a11baefc7782d026b5037f7</td>\n",
       "      <td>List of datasets for machine learning research</td>\n",
       "      <td>Machine learning</td>\n",
       "      <td>{{Use dmy dates|date=September 2017}}\\n{{machi...</td>\n",
       "      <td>49082762</td>\n",
       "    </tr>\n",
       "    <tr>\n",
       "      <th>2</th>\n",
       "      <td>5a11baefc7782d026b5037f8</td>\n",
       "      <td>Machine learning</td>\n",
       "      <td>Machine learning</td>\n",
       "      <td>{{for|the journal|Machine Learning (journal)}}...</td>\n",
       "      <td>233488</td>\n",
       "    </tr>\n",
       "    <tr>\n",
       "      <th>3</th>\n",
       "      <td>5a11baf0c7782d026b5037f9</td>\n",
       "      <td>Outline of machine learning</td>\n",
       "      <td>Machine learning</td>\n",
       "      <td>&lt;!--... Attention:  THIS IS AN OUTLINE\\n\\n    ...</td>\n",
       "      <td>53587467</td>\n",
       "    </tr>\n",
       "    <tr>\n",
       "      <th>4</th>\n",
       "      <td>5a11baf0c7782d026b5037fa</td>\n",
       "      <td>Accuracy paradox</td>\n",
       "      <td>Machine learning</td>\n",
       "      <td>The '''accuracy paradox''' for [[predictive an...</td>\n",
       "      <td>3771060</td>\n",
       "    </tr>\n",
       "  </tbody>\n",
       "</table>\n",
       "</div>"
      ],
      "text/plain": [
       "                        _id                                         article  \\\n",
       "0  5a11baefc7782d026b5037f6                                Data exploration   \n",
       "1  5a11baefc7782d026b5037f7  List of datasets for machine learning research   \n",
       "2  5a11baefc7782d026b5037f8                                Machine learning   \n",
       "3  5a11baf0c7782d026b5037f9                     Outline of machine learning   \n",
       "4  5a11baf0c7782d026b5037fa                                Accuracy paradox   \n",
       "\n",
       "           category                                            content  \\\n",
       "0  Machine learning  {{Multiple issues|{{refimprove|date=July 2017}...   \n",
       "1  Machine learning  {{Use dmy dates|date=September 2017}}\\n{{machi...   \n",
       "2  Machine learning  {{for|the journal|Machine Learning (journal)}}...   \n",
       "3  Machine learning  <!--... Attention:  THIS IS AN OUTLINE\\n\\n    ...   \n",
       "4  Machine learning  The '''accuracy paradox''' for [[predictive an...   \n",
       "\n",
       "    page_id  \n",
       "0  43385931  \n",
       "1  49082762  \n",
       "2    233488  \n",
       "3  53587467  \n",
       "4   3771060  "
      ]
     },
     "execution_count": 10,
     "metadata": {},
     "output_type": "execute_result"
    }
   ],
   "source": [
    "machine_df.head()"
   ]
  },
  {
   "cell_type": "code",
   "execution_count": 11,
   "metadata": {},
   "outputs": [
    {
     "data": {
      "text/plain": [
       "'{{Multiple issues|{{refimprove|date=July 2017}}{{more footnotes|date=July 2017}}}}\\n\\n\\'\\'\\'Data exploration\\'\\'\\' is an approach similar to initial data analysis, whereby a data analyst uses visual exploration to understand what is in a dataset and the characteristics of the data, rather than through traditional data management systems<ref name=\"Foster\">[https://www.fosteropenscience.eu/sites/default/files/pdf/2933.pdf FOSTER Open Science], Overview of Data Exploration Techniques: Stratos Idreos, Olga Papaemmonouil, Surajit Chaudhuri.</ref>. These characteristics can include size or amount of data, completeness of the data, correctness of the data, possible relationships amongst data elements or files/tables in the data.\\n\\nData exploration is typically conducted using a combination of automated and manual activities.<ref name=\"Foster\" /><ref name=\"Stanford2011\">[http://vis.stanford.edu/files/2011-Wrangler-CHI.pdf Stanford.edu], 2011 Wrangler: Interactive Visual Specification of Data Transformation Scripts, Kandel, Paepcke, Hellerstein Heer.</ref> Automated activities can include data profiling or data visualization or tabular reports to give the analyst an initial view into the data and an understanding of key characteristics.\\n\\nThis is often followed by manual drill-down or filtering of the data to identify anomalies or patterns identified through the automated actions.  Data exploration can also require manual scripting and queries into the data (e.g. using languages such as SQL or R) or using Excel or similar tools to view the raw data.<ref name=\"Stanford2012\">[http://vis.stanford.edu/files/2012-EnterpriseAnalysisInterviews-VAST.pdf Stanford.edu], IEEE Visual Analytics Science & Technology (VAST), Oct 2012 Enterprise Data Analysis and Visualization: An Interview Study., Sean Kandel, Andreas Paepcke, Joseph Hellerstein, Jeffrey Heer Proc.</ref>\\n\\nAll of these activities are aimed at creating a clear mental model and understanding of the data in the mind of the analyst, and defining basic metadata (statistics, structure, relationships) for the data set that can be used in further analysis.\\n\\nOnce this initial understanding of the data is had, the data can be pruned or refined by removing unusable parts of the data, correcting poorly formatted elements and defining relevant relationships across datasets<ref name=\"Stanford2011\" />. This process is also known as determining [[data quality]]<ref name=\"Stanford2012\" />.\\n\\nAt this stage, the data can be considered ready for deeper analysis or be handed off to other analysts or users who have specific needs for the data.\\n\\nData exploration can also refer to the adhoc querying and visualization of data to identify potential relationships or insights that may be hidden in the data<ref name=\"Foster\" />.  In this scenario, hypotheses may be created and then the data is explored to identify whether those hypotheses are correct. \\n\\nTraditionally, this had been a key area of focus for statisticians, with [[John Tukey]] being a key evangelist in the field. Today, data exploration is more widespread and is the focus of data analysts and [[data scientists]]; the latter being a relatively new role within enterprises and larger organizations.\\n\\n== Interactive Data Exploration ==\\nThis area of data exploration has become an area of interest in the field of machine learning. This is a relatively new field and is still evolving.<ref name=\"Stanford2012\" />  As it’s most basic level, a machine-learning algorithm can be fed a data set and can be used to identify whether a hypothesis is true based on the dataset. Common machine learning algorithms can focus on identifying specific patterns in the data.<ref name=\"Stanford2011\" /> Common patterns include regression, classification or clustering, but there are many possible patterns and algorithms that can be applied to data via machine learning.\\n\\nBy employing machine learning, it is possible to find patterns or relationships in the data that would be difficult or impossible to find via manual inspection, trial and error or traditional exploration techniques.\\n\\n==Software==\\n* [[Trifacta]] – a data preparation and analysis platform\\n* [[Paxata]] – self-service data preparation software\\n* [[Alteryx]] – data blending and advanced data analytics software\\n* IBM Infosphere Analyzer – a data profiling tool\\n* Microsoft [[Power BI]] -  interactive visualization and data analysis tool\\n* [[OpenRefine]] -  a standalone open source desktop application for data clean-up and data transformation \\n* [[Tableau software]] – interactive data visualization software\\n\\n==See also==\\n{{Portal|Information technology}}\\n* [[Exploratory Data Analysis]]\\n* [[Machine Learning]]\\n* [[Data profiling]]\\n* [[Data Visualization]]\\n{{-}}\\n\\n== References ==\\n{{reflist}}\\n\\n[[Category:Machine learning| ]]\\n[[Category:Data analysis]]\\n[[Category:Data management]]\\n[[Category:Data quality]]'"
      ]
     },
     "execution_count": 11,
     "metadata": {},
     "output_type": "execute_result"
    }
   ],
   "source": [
    "machine_df['content'][0]"
   ]
  },
  {
   "cell_type": "code",
   "execution_count": 14,
   "metadata": {},
   "outputs": [],
   "source": [
    "machine_df['clean_text'] = machine_df['content'].apply(cleaner)"
   ]
  },
  {
   "cell_type": "code",
   "execution_count": 16,
   "metadata": {},
   "outputs": [
    {
     "data": {
      "text/plain": [
       "'multiple issuesrefimprovedatejuly footnotesdatejuly datum exploration approach similar initial datum analysis whereby data analyst use visual exploration understand dataset characteristic data rather traditional data management system characteristic include size amount datum completeness datum correctness datum possible relationship amongst data element filestable datadata exploration typically conduct use combination automate manual activity automate activity include datum profile datum visualization tabular report give analyst initial view datum understanding key characteristicsthis often follow manual drilldown filtering datum identify anomaly pattern identify automate action   data exploration also require manual scripting query datum eg use language sql r use excel similar tool view raw dataall activity aim create clear mental model understanding datum mind analyst define basic metadata statistic structure relationship datum set use analysisonce initial understanding data datum prune refine remove unusable part datum correct poorly format element define relevant relationship across datasetsref namestanford   process also know determine datum qualityref namestanford stage datum consider ready deep analysis hand analyst user specific need datadata exploration also refer adhoc query visualization datum identify potential relationship insight may hide dataref namefoster    scenario hypothesis may create data explore identify whether hypothesis correct traditionally key area focus statistician john tukey key evangelist field today datum exploration widespread focus datum analyst datum scientist latter relatively new role within enterprise large organization interactive data exploration area data exploration become area interest field machine learn relatively new field still evolvingref namestanford    basic level machinelearning algorithm feed data set use identify whether hypothesis true base dataset common machine learn algorithm focus identify specific pattern dataref namestanford   common pattern include regression classification clustering many possible pattern algorithm apply datum via machine learningby employ machine learn possible find pattern relationship datum would difficult impossible find via manual inspection trial error traditional exploration techniquessoftware trifacta   data preparation analysis platform paxata   selfservice datum preparation software alteryx   data blending advanced datum analytic software ibm infosphere analyzer   data profile tool microsoft power bi    interactive visualization data analysis tool openrefine    standalone open source desktop application datum cleanup datum transformation   tableau software   interactive datum visualization softwaresee alsoportalinformation technology exploratory datum analysis machine learn datum profile datum visualization reference reflistcategorymachine learn categorydata analysiscategorydata managementcategorydata quality'"
      ]
     },
     "execution_count": 16,
     "metadata": {},
     "output_type": "execute_result"
    }
   ],
   "source": [
    "machine_df['clean_text'][0]"
   ]
  },
  {
   "cell_type": "code",
   "execution_count": null,
   "metadata": {},
   "outputs": [],
   "source": []
  }
 ],
 "metadata": {
  "kernelspec": {
   "display_name": "Python 3",
   "language": "python",
   "name": "python3"
  },
  "language_info": {
   "codemirror_mode": {
    "name": "ipython",
    "version": 3
   },
   "file_extension": ".py",
   "mimetype": "text/x-python",
   "name": "python",
   "nbconvert_exporter": "python",
   "pygments_lexer": "ipython3",
   "version": "3.6.2"
  }
 },
 "nbformat": 4,
 "nbformat_minor": 2
}
